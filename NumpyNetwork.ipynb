{
 "cells": [
  {
   "cell_type": "code",
   "execution_count": 1,
   "metadata": {
    "collapsed": true
   },
   "outputs": [],
   "source": [
    "# Import statements\n",
    "import sys\n",
    "import numpy as np\n",
    "import random"
   ]
  },
  {
   "cell_type": "code",
   "execution_count": 2,
   "metadata": {
    "collapsed": true
   },
   "outputs": [],
   "source": [
    "# Debug function\n",
    "def debug(expression):\n",
    "    frame = sys._getframe(1)\n",
    "    value = str(eval(expression, frame.f_globals, frame.f_locals))\n",
    "    if '\\n' in value:\n",
    "        delimiter = ':\\n'\n",
    "    else:\n",
    "        delimiter = ' ='\n",
    "    print(expression + delimiter, value)\n",
    "    "
   ]
  },
  {
   "cell_type": "code",
   "execution_count": 3,
   "metadata": {
    "collapsed": true
   },
   "outputs": [],
   "source": [
    "class NeuralNetwork:\n",
    "    def __init__(self, input_nodes, hidden_nodes, output_nodes):\n",
    "        self.layer_0_nodes = input_nodes\n",
    "        self.layer_1_nodes = hidden_nodes\n",
    "        self.layer_2_nodes = output_nodes\n",
    "\n",
    "        # Seed\n",
    "        np.random.seed(1)\n",
    "\n",
    "        # Init weights\n",
    "        self.weights_0_1 = np.random.normal(0.0, self.layer_1_nodes**-0.5, (self.layer_0_nodes, self.layer_1_nodes))\n",
    "        self.weights_1_2 = np.random.normal(0.0, self.layer_2_nodes**-0.5, (self.layer_1_nodes, self.layer_2_nodes))\n",
    "\n",
    "\n",
    "    @staticmethod\n",
    "    def sigmoid(x):\n",
    "        return 1 / (1 + np.exp(-x))\n",
    "\n",
    "    @staticmethod\n",
    "    def sigmoid_output_2_derivative(output):\n",
    "        return output * (1 - output)\n",
    "\n",
    "    def train(self, inputs, targets, iterations, learn_rate=0.01):\n",
    "        assert(len(inputs) == len(targets))\n",
    "        for iteration in range(iterations):\n",
    "\n",
    "            # self.weights_0_1.shape # 3x4\n",
    "            # self.weights_1_2.shape # 4x1\n",
    "\n",
    "            # inputs.shape # 6x3\n",
    "            # targets.shape # 6x1\n",
    "\n",
    "            # Forward Pass #\n",
    "            hidden_input = inputs.dot(self.weights_0_1)  # 6x4\n",
    "            hidden_output = self.sigmoid(hidden_input)  # 6x4\n",
    "\n",
    "            final_input = hidden_output.dot(self.weights_1_2)  # 6x1\n",
    "            final_output = self.sigmoid(final_input)  # 6x1\n",
    "\n",
    "            # Back Pass #\n",
    "            final_error = targets - final_output  # 6x1\n",
    "            final_grad = final_error * self.sigmoid_output_2_derivative(final_output)  # 6x1\n",
    "\n",
    "            hidden_error = final_error.dot(self.weights_1_2.T)  # 6x4\n",
    "            hidden_grad = hidden_error * self.sigmoid_output_2_derivative(hidden_output)  # 6x4\n",
    "\n",
    "            # Update Weights #\n",
    "            self.weights_1_2 += hidden_output.T.dot(final_grad) * learn_rate\n",
    "            self.weights_0_1 += inputs.T.dot(hidden_grad) * learn_rate\n",
    "\n",
    "    def predict(self, inputs):\n",
    "        # Forward Pass #\n",
    "        hidden_input = inputs.dot(self.weights_0_1)  # 6x4\n",
    "        hidden_output = self.sigmoid(hidden_input)  # 6x4\n",
    "\n",
    "        final_input = hidden_output.dot(self.weights_1_2)  # 6x1\n",
    "        final_output = self.sigmoid(final_input)  # 6x1\n",
    "        return final_output\n"
   ]
  },
  {
   "cell_type": "code",
   "execution_count": 4,
   "metadata": {
    "collapsed": false
   },
   "outputs": [],
   "source": [
    "def train_test_split(features, labels, test_size=0.25, random_state=1):\n",
    "    \n",
    "    assert(len(features) == len(labels))\n",
    "    assert(len(features) > 1)\n",
    "    combined = list(zip(features, labels))\n",
    "    random.seed(random_state)\n",
    "    random.shuffle(combined)\n",
    "    \n",
    "    features[:], labels[:] = zip(*combined)\n",
    "    \n",
    "    split_idx = int(np.ceil(len(features) * test_size))\n",
    "    \n",
    "    features_train, features_test, labels_train, labels_test = \\\n",
    "        features[split_idx:], features[:split_idx], labels[split_idx:], labels[:split_idx]\n",
    "    \n",
    "    return features_train, features_test, labels_train, labels_test"
   ]
  },
  {
   "cell_type": "code",
   "execution_count": 5,
   "metadata": {
    "collapsed": false
   },
   "outputs": [],
   "source": [
    "def accuracy_score(logits, labels):\n",
    "    assert(len(logits) == len(labels))\n",
    "    assert(len(logits) > 0)\n",
    "    \n",
    "    correct = 0\n",
    "    \n",
    "    for logit, label in zip(logits, labels):\n",
    "        if logit == label:\n",
    "            correct += 1\n",
    "    return correct/len(logits)\n"
   ]
  },
  {
   "cell_type": "code",
   "execution_count": 20,
   "metadata": {
    "collapsed": true
   },
   "outputs": [],
   "source": [
    "input_nodes = 6\n",
    "hidden_nodes = 4\n",
    "output_nodes = 1 # don't change\n",
    "function = lambda features: np.sin(np.sum(features)) > 0.5\n",
    "learn_rate = 0.01\n",
    "epochs = 100000\n",
    "test_split = 0.10\n",
    "\n",
    "# Print\n",
    "print_sample = 10\n",
    "decimal_round = 5\n",
    "spacing = 5"
   ]
  },
  {
   "cell_type": "code",
   "execution_count": 21,
   "metadata": {
    "collapsed": false
   },
   "outputs": [
    {
     "name": "stdout",
     "output_type": "stream",
     "text": [
      "Features          Preds          Labels  Correct\n",
      "[1 1 1 0 1 0]     [ 0.00671]     [0]     True\n",
      "[0 1 0 1 1 0]     [ 0.00833]     [0]     True\n",
      "[1 1 1 0 0 0]     [ 0.00671]     [0]     True\n",
      "[1 0 1 0 1 0]     [ 0.00794]     [0]     True\n",
      "[0 1 1 1 0 1]     [ 0.00681]     [0]     True\n",
      "[0 1 0 0 0 1]     [ 0.98852]     [1]     True\n",
      "[1 1 0 0 1 0]     [ 0.00704]     [0]     True\n",
      "\n",
      "Accuracy: 1.0\n"
     ]
    }
   ],
   "source": [
    "\n",
    "# Create network\n",
    "network = NeuralNetwork(input_nodes, hidden_nodes, 1)\n",
    "\n",
    "# Generate data\n",
    "features = np.array(np.meshgrid( *([[0, 1]]*input_nodes) )).T.reshape(-1,input_nodes)\n",
    "labels = np.zeros((features.shape[0], output_nodes), dtype=int)\n",
    "for key, row in enumerate(features):\n",
    "    if (function(row)): # Qualifier\n",
    "        labels[key] = 1\n",
    "        \n",
    "# Split Data\n",
    "features_train, features_test, labels_train, labels_test = \\\n",
    "    train_test_split(features, labels, test_size=test_split, random_state=42)\n",
    "\n",
    "# Train Network\n",
    "network.train(features_train, labels_train, epochs, learn_rate=learn_rate)\n",
    "\n",
    "# Predict\n",
    "predictions_test = network.predict(features_test)\n",
    "\n",
    "# Print\n",
    "format_string = '{:'+str(input_nodes*2+1+spacing)+'}{:'+str((decimal_round+2)*output_nodes+3+spacing)+'}{:'+str(output_nodes*2+1+spacing)+'}{}'   \n",
    "\n",
    "print(format_string.format('Features', 'Preds', 'Labels', 'Correct'))\n",
    "# Show sample\n",
    "for feature, prediction, label in zip(features_test[:print_sample], predictions_test[:print_sample], labels_test[:print_sample]):\n",
    "    correct = np.array_equal(np.round(prediction), label)\n",
    "    print(format_string.format(str(feature), str(np.round(prediction, decimals=decimal_round)), str(label), str(correct)))\n",
    "\n",
    "# Show accuracy\n",
    "accuracy = accuracy_score(labels_test, np.round(predictions_test))\n",
    "print('\\nAccuracy:', accuracy)\n"
   ]
  },
  {
   "cell_type": "code",
   "execution_count": null,
   "metadata": {
    "collapsed": true
   },
   "outputs": [],
   "source": []
  }
 ],
 "metadata": {
  "anaconda-cloud": {},
  "kernelspec": {
   "display_name": "Python [default]",
   "language": "python",
   "name": "python3"
  },
  "language_info": {
   "codemirror_mode": {
    "name": "ipython",
    "version": 3
   },
   "file_extension": ".py",
   "mimetype": "text/x-python",
   "name": "python",
   "nbconvert_exporter": "python",
   "pygments_lexer": "ipython3",
   "version": "3.5.3"
  }
 },
 "nbformat": 4,
 "nbformat_minor": 2
}
